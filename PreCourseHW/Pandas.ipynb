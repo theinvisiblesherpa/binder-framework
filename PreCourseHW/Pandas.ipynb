{
 "cells": [
  {
   "cell_type": "code",
   "execution_count": 3,
   "id": "e1b7db81",
   "metadata": {},
   "outputs": [],
   "source": [
    "import pandas as pd\n",
    "energyDF = pd.read_csv(\"./EnergyCostSavings.csv\")"
   ]
  },
  {
   "cell_type": "code",
   "execution_count": 4,
   "id": "066f6934",
   "metadata": {},
   "outputs": [
    {
     "data": {
      "text/html": [
       "<div>\n",
       "<style scoped>\n",
       "    .dataframe tbody tr th:only-of-type {\n",
       "        vertical-align: middle;\n",
       "    }\n",
       "\n",
       "    .dataframe tbody tr th {\n",
       "        vertical-align: top;\n",
       "    }\n",
       "\n",
       "    .dataframe thead th {\n",
       "        text-align: right;\n",
       "    }\n",
       "</style>\n",
       "<table border=\"1\" class=\"dataframe\">\n",
       "  <thead>\n",
       "    <tr style=\"text-align: right;\">\n",
       "      <th></th>\n",
       "      <th>Period</th>\n",
       "      <th>Company Name</th>\n",
       "      <th>company contact</th>\n",
       "      <th>company email</th>\n",
       "      <th>company phone</th>\n",
       "      <th>Address</th>\n",
       "      <th>City</th>\n",
       "      <th>State</th>\n",
       "      <th>Postcode</th>\n",
       "      <th>Industry</th>\n",
       "      <th>...</th>\n",
       "      <th>Electric Savings</th>\n",
       "      <th>Borough</th>\n",
       "      <th>Latitude</th>\n",
       "      <th>Longitude</th>\n",
       "      <th>Community Board</th>\n",
       "      <th>Council District</th>\n",
       "      <th>BIN</th>\n",
       "      <th>BBL</th>\n",
       "      <th>Census Tract (2020)</th>\n",
       "      <th>Neighborhood Tabulation Area (NTA) (2020)</th>\n",
       "    </tr>\n",
       "  </thead>\n",
       "  <tbody>\n",
       "    <tr>\n",
       "      <th>0</th>\n",
       "      <td>FY2018</td>\n",
       "      <td>139 ACA Realty, Inc.</td>\n",
       "      <td>Eitan Chandally</td>\n",
       "      <td>barbara@dial7.com</td>\n",
       "      <td>7187076123</td>\n",
       "      <td>43-23 35th Street</td>\n",
       "      <td>Long Island City</td>\n",
       "      <td>NY</td>\n",
       "      <td>11101</td>\n",
       "      <td>Commercial</td>\n",
       "      <td>...</td>\n",
       "      <td>NaN</td>\n",
       "      <td>QUEENS</td>\n",
       "      <td>40.745706</td>\n",
       "      <td>-73.929565</td>\n",
       "      <td>402.0</td>\n",
       "      <td>26.0</td>\n",
       "      <td>4003160.0</td>\n",
       "      <td>4.002220e+09</td>\n",
       "      <td>17902.0</td>\n",
       "      <td>QN0202</td>\n",
       "    </tr>\n",
       "    <tr>\n",
       "      <th>1</th>\n",
       "      <td>FY2018</td>\n",
       "      <td>141 Lake Avenue Realty c/o JR Produce, Inc.</td>\n",
       "      <td>Josef Raz</td>\n",
       "      <td>jrproduce@gmail.com</td>\n",
       "      <td>7183708782</td>\n",
       "      <td>141 Lake Avenue</td>\n",
       "      <td>Staten Island</td>\n",
       "      <td>NY</td>\n",
       "      <td>10303</td>\n",
       "      <td>Wholesale/Warehouse/Distribution</td>\n",
       "      <td>...</td>\n",
       "      <td>NaN</td>\n",
       "      <td>STATEN IS</td>\n",
       "      <td>40.632845</td>\n",
       "      <td>-74.151048</td>\n",
       "      <td>501.0</td>\n",
       "      <td>49.0</td>\n",
       "      <td>5146740.0</td>\n",
       "      <td>5.011610e+09</td>\n",
       "      <td>239.0</td>\n",
       "      <td>SI0107</td>\n",
       "    </tr>\n",
       "    <tr>\n",
       "      <th>2</th>\n",
       "      <td>FY2018</td>\n",
       "      <td>14-10 123rd Street LLC</td>\n",
       "      <td>Danica/Ivan Drazic</td>\n",
       "      <td>ddrazic@atjelectrical.com</td>\n",
       "      <td>7183210117</td>\n",
       "      <td>14-10 123rd Street</td>\n",
       "      <td>College Point</td>\n",
       "      <td>NY</td>\n",
       "      <td>11356</td>\n",
       "      <td>Commercial</td>\n",
       "      <td>...</td>\n",
       "      <td>NaN</td>\n",
       "      <td>QUEENS</td>\n",
       "      <td>40.785144</td>\n",
       "      <td>-73.844833</td>\n",
       "      <td>407.0</td>\n",
       "      <td>19.0</td>\n",
       "      <td>4098344.0</td>\n",
       "      <td>4.040850e+09</td>\n",
       "      <td>929.0</td>\n",
       "      <td>QN0701</td>\n",
       "    </tr>\n",
       "    <tr>\n",
       "      <th>3</th>\n",
       "      <td>FY2018</td>\n",
       "      <td>183 Lorriane Street LLC</td>\n",
       "      <td>Tom Sapienza</td>\n",
       "      <td>tsapienza@KLCNY.com</td>\n",
       "      <td>2128405588</td>\n",
       "      <td>183 Lorraine Street</td>\n",
       "      <td>Brooklyn</td>\n",
       "      <td>NY</td>\n",
       "      <td>11231</td>\n",
       "      <td>Wholesale/Warehouse/Distribution</td>\n",
       "      <td>...</td>\n",
       "      <td>NaN</td>\n",
       "      <td>BROOKLYN</td>\n",
       "      <td>40.673106</td>\n",
       "      <td>-74.002300</td>\n",
       "      <td>306.0</td>\n",
       "      <td>38.0</td>\n",
       "      <td>3336622.0</td>\n",
       "      <td>3.005720e+09</td>\n",
       "      <td>5302.0</td>\n",
       "      <td>BK0601</td>\n",
       "    </tr>\n",
       "    <tr>\n",
       "      <th>4</th>\n",
       "      <td>FY2018</td>\n",
       "      <td>21st Century Optics, Inc.</td>\n",
       "      <td>Ralph Woythaler</td>\n",
       "      <td>rwoythaler@21st centuryoptics.com</td>\n",
       "      <td>7183922310</td>\n",
       "      <td>47-00 33rd Street</td>\n",
       "      <td>Lond Island City</td>\n",
       "      <td>NY</td>\n",
       "      <td>11101</td>\n",
       "      <td>Manufacturing</td>\n",
       "      <td>...</td>\n",
       "      <td>NaN</td>\n",
       "      <td>QUEENS</td>\n",
       "      <td>40.742386</td>\n",
       "      <td>-73.932148</td>\n",
       "      <td>402.0</td>\n",
       "      <td>26.0</td>\n",
       "      <td>4003447.0</td>\n",
       "      <td>4.002520e+09</td>\n",
       "      <td>19901.0</td>\n",
       "      <td>QN0202</td>\n",
       "    </tr>\n",
       "  </tbody>\n",
       "</table>\n",
       "<p>5 rows × 30 columns</p>\n",
       "</div>"
      ],
      "text/plain": [
       "   Period                                 Company Name     company contact  \\\n",
       "0  FY2018                         139 ACA Realty, Inc.     Eitan Chandally   \n",
       "1  FY2018  141 Lake Avenue Realty c/o JR Produce, Inc.           Josef Raz   \n",
       "2  FY2018                       14-10 123rd Street LLC  Danica/Ivan Drazic   \n",
       "3  FY2018                      183 Lorriane Street LLC        Tom Sapienza   \n",
       "4  FY2018                    21st Century Optics, Inc.     Ralph Woythaler   \n",
       "\n",
       "                       company email company phone              Address  \\\n",
       "0                  barbara@dial7.com    7187076123    43-23 35th Street   \n",
       "1                jrproduce@gmail.com    7183708782      141 Lake Avenue   \n",
       "2          ddrazic@atjelectrical.com    7183210117   14-10 123rd Street   \n",
       "3                tsapienza@KLCNY.com    2128405588  183 Lorraine Street   \n",
       "4  rwoythaler@21st centuryoptics.com    7183922310    47-00 33rd Street   \n",
       "\n",
       "               City State  Postcode                          Industry  ...  \\\n",
       "0  Long Island City    NY     11101                        Commercial  ...   \n",
       "1     Staten Island    NY     10303  Wholesale/Warehouse/Distribution  ...   \n",
       "2     College Point    NY     11356                        Commercial  ...   \n",
       "3          Brooklyn    NY     11231  Wholesale/Warehouse/Distribution  ...   \n",
       "4  Lond Island City    NY     11101                     Manufacturing  ...   \n",
       "\n",
       "  Electric Savings    Borough   Latitude  Longitude  Community Board  \\\n",
       "0              NaN     QUEENS  40.745706 -73.929565            402.0   \n",
       "1              NaN  STATEN IS  40.632845 -74.151048            501.0   \n",
       "2              NaN     QUEENS  40.785144 -73.844833            407.0   \n",
       "3              NaN   BROOKLYN  40.673106 -74.002300            306.0   \n",
       "4              NaN     QUEENS  40.742386 -73.932148            402.0   \n",
       "\n",
       "  Council District        BIN           BBL  Census Tract (2020)  \\\n",
       "0             26.0  4003160.0  4.002220e+09              17902.0   \n",
       "1             49.0  5146740.0  5.011610e+09                239.0   \n",
       "2             19.0  4098344.0  4.040850e+09                929.0   \n",
       "3             38.0  3336622.0  3.005720e+09               5302.0   \n",
       "4             26.0  4003447.0  4.002520e+09              19901.0   \n",
       "\n",
       "   Neighborhood Tabulation Area (NTA) (2020)  \n",
       "0                                     QN0202  \n",
       "1                                     SI0107  \n",
       "2                                     QN0701  \n",
       "3                                     BK0601  \n",
       "4                                     QN0202  \n",
       "\n",
       "[5 rows x 30 columns]"
      ]
     },
     "execution_count": 4,
     "metadata": {},
     "output_type": "execute_result"
    }
   ],
   "source": [
    "energyDF.head()"
   ]
  },
  {
   "cell_type": "code",
   "execution_count": 5,
   "id": "62f6c24e",
   "metadata": {},
   "outputs": [
    {
     "data": {
      "text/html": [
       "<div>\n",
       "<style scoped>\n",
       "    .dataframe tbody tr th:only-of-type {\n",
       "        vertical-align: middle;\n",
       "    }\n",
       "\n",
       "    .dataframe tbody tr th {\n",
       "        vertical-align: top;\n",
       "    }\n",
       "\n",
       "    .dataframe thead th {\n",
       "        text-align: right;\n",
       "    }\n",
       "</style>\n",
       "<table border=\"1\" class=\"dataframe\">\n",
       "  <thead>\n",
       "    <tr style=\"text-align: right;\">\n",
       "      <th></th>\n",
       "      <th>Postcode</th>\n",
       "      <th>Current fulltime</th>\n",
       "      <th>Job created</th>\n",
       "      <th>Job retain</th>\n",
       "      <th>Total Savings</th>\n",
       "      <th>Savings from beginning receiving benefits</th>\n",
       "      <th>Gas Savings</th>\n",
       "      <th>Cogen savings</th>\n",
       "      <th>Electric Savings</th>\n",
       "      <th>Latitude</th>\n",
       "      <th>Longitude</th>\n",
       "      <th>Community Board</th>\n",
       "      <th>Council District</th>\n",
       "      <th>BIN</th>\n",
       "      <th>BBL</th>\n",
       "      <th>Census Tract (2020)</th>\n",
       "    </tr>\n",
       "  </thead>\n",
       "  <tbody>\n",
       "    <tr>\n",
       "      <th>count</th>\n",
       "      <td>2363.000000</td>\n",
       "      <td>2350.000000</td>\n",
       "      <td>229.000000</td>\n",
       "      <td>339.000000</td>\n",
       "      <td>2.363000e+03</td>\n",
       "      <td>2.363000e+03</td>\n",
       "      <td>801.000000</td>\n",
       "      <td>801.000000</td>\n",
       "      <td>8.010000e+02</td>\n",
       "      <td>2144.000000</td>\n",
       "      <td>2144.000000</td>\n",
       "      <td>2144.000000</td>\n",
       "      <td>2144.000000</td>\n",
       "      <td>2.111000e+03</td>\n",
       "      <td>2.111000e+03</td>\n",
       "      <td>2144.000000</td>\n",
       "    </tr>\n",
       "    <tr>\n",
       "      <th>mean</th>\n",
       "      <td>11117.511215</td>\n",
       "      <td>111.891064</td>\n",
       "      <td>66.733624</td>\n",
       "      <td>135.035398</td>\n",
       "      <td>3.586161e+04</td>\n",
       "      <td>3.670538e+05</td>\n",
       "      <td>1556.253458</td>\n",
       "      <td>775.068964</td>\n",
       "      <td>2.971005e+04</td>\n",
       "      <td>40.724748</td>\n",
       "      <td>-73.938047</td>\n",
       "      <td>319.817631</td>\n",
       "      <td>27.615205</td>\n",
       "      <td>3.303459e+06</td>\n",
       "      <td>3.173351e+09</td>\n",
       "      <td>8139.259328</td>\n",
       "    </tr>\n",
       "    <tr>\n",
       "      <th>std</th>\n",
       "      <td>2227.676611</td>\n",
       "      <td>477.751105</td>\n",
       "      <td>749.200494</td>\n",
       "      <td>371.523489</td>\n",
       "      <td>1.501716e+05</td>\n",
       "      <td>1.668895e+06</td>\n",
       "      <td>9690.273878</td>\n",
       "      <td>10073.585193</td>\n",
       "      <td>1.133967e+05</td>\n",
       "      <td>0.058004</td>\n",
       "      <td>0.066153</td>\n",
       "      <td>92.695266</td>\n",
       "      <td>10.715503</td>\n",
       "      <td>9.796819e+05</td>\n",
       "      <td>9.367395e+08</td>\n",
       "      <td>15674.506202</td>\n",
       "    </tr>\n",
       "    <tr>\n",
       "      <th>min</th>\n",
       "      <td>10001.000000</td>\n",
       "      <td>0.000000</td>\n",
       "      <td>1.000000</td>\n",
       "      <td>1.000000</td>\n",
       "      <td>-1.099101e+05</td>\n",
       "      <td>0.000000e+00</td>\n",
       "      <td>-16353.890000</td>\n",
       "      <td>0.000000</td>\n",
       "      <td>-4.867951e+04</td>\n",
       "      <td>40.537235</td>\n",
       "      <td>-74.230740</td>\n",
       "      <td>101.000000</td>\n",
       "      <td>1.000000</td>\n",
       "      <td>1.000006e+06</td>\n",
       "      <td>1.000058e+09</td>\n",
       "      <td>2.000000</td>\n",
       "    </tr>\n",
       "    <tr>\n",
       "      <th>25%</th>\n",
       "      <td>11101.000000</td>\n",
       "      <td>10.000000</td>\n",
       "      <td>4.000000</td>\n",
       "      <td>14.000000</td>\n",
       "      <td>1.761375e+03</td>\n",
       "      <td>1.854265e+04</td>\n",
       "      <td>0.000000</td>\n",
       "      <td>0.000000</td>\n",
       "      <td>1.461500e+03</td>\n",
       "      <td>40.676734</td>\n",
       "      <td>-73.976013</td>\n",
       "      <td>301.000000</td>\n",
       "      <td>22.000000</td>\n",
       "      <td>3.008798e+06</td>\n",
       "      <td>3.006120e+09</td>\n",
       "      <td>286.000000</td>\n",
       "    </tr>\n",
       "    <tr>\n",
       "      <th>50%</th>\n",
       "      <td>11205.000000</td>\n",
       "      <td>27.500000</td>\n",
       "      <td>10.000000</td>\n",
       "      <td>36.000000</td>\n",
       "      <td>6.192290e+03</td>\n",
       "      <td>5.831049e+04</td>\n",
       "      <td>0.000000</td>\n",
       "      <td>0.000000</td>\n",
       "      <td>5.832510e+03</td>\n",
       "      <td>40.726669</td>\n",
       "      <td>-73.937847</td>\n",
       "      <td>307.000000</td>\n",
       "      <td>27.000000</td>\n",
       "      <td>3.336906e+06</td>\n",
       "      <td>3.038820e+09</td>\n",
       "      <td>974.500000</td>\n",
       "    </tr>\n",
       "    <tr>\n",
       "      <th>75%</th>\n",
       "      <td>11232.000000</td>\n",
       "      <td>70.000000</td>\n",
       "      <td>15.000000</td>\n",
       "      <td>84.000000</td>\n",
       "      <td>1.962452e+04</td>\n",
       "      <td>1.827293e+05</td>\n",
       "      <td>0.000000</td>\n",
       "      <td>0.000000</td>\n",
       "      <td>1.791193e+04</td>\n",
       "      <td>40.753900</td>\n",
       "      <td>-73.906823</td>\n",
       "      <td>402.000000</td>\n",
       "      <td>35.250000</td>\n",
       "      <td>4.005214e+06</td>\n",
       "      <td>4.004160e+09</td>\n",
       "      <td>9302.000000</td>\n",
       "    </tr>\n",
       "    <tr>\n",
       "      <th>max</th>\n",
       "      <td>91331.000000</td>\n",
       "      <td>15898.000000</td>\n",
       "      <td>11343.000000</td>\n",
       "      <td>2964.000000</td>\n",
       "      <td>3.998240e+06</td>\n",
       "      <td>3.355135e+07</td>\n",
       "      <td>162239.120000</td>\n",
       "      <td>210858.000000</td>\n",
       "      <td>2.210101e+06</td>\n",
       "      <td>40.900509</td>\n",
       "      <td>-73.722866</td>\n",
       "      <td>503.000000</td>\n",
       "      <td>51.000000</td>\n",
       "      <td>5.168823e+06</td>\n",
       "      <td>5.073280e+09</td>\n",
       "      <td>152902.000000</td>\n",
       "    </tr>\n",
       "  </tbody>\n",
       "</table>\n",
       "</div>"
      ],
      "text/plain": [
       "           Postcode  Current fulltime   Job created   Job retain  \\\n",
       "count   2363.000000       2350.000000    229.000000   339.000000   \n",
       "mean   11117.511215        111.891064     66.733624   135.035398   \n",
       "std     2227.676611        477.751105    749.200494   371.523489   \n",
       "min    10001.000000          0.000000      1.000000     1.000000   \n",
       "25%    11101.000000         10.000000      4.000000    14.000000   \n",
       "50%    11205.000000         27.500000     10.000000    36.000000   \n",
       "75%    11232.000000         70.000000     15.000000    84.000000   \n",
       "max    91331.000000      15898.000000  11343.000000  2964.000000   \n",
       "\n",
       "       Total Savings  Savings from beginning receiving benefits  \\\n",
       "count   2.363000e+03                               2.363000e+03   \n",
       "mean    3.586161e+04                               3.670538e+05   \n",
       "std     1.501716e+05                               1.668895e+06   \n",
       "min    -1.099101e+05                               0.000000e+00   \n",
       "25%     1.761375e+03                               1.854265e+04   \n",
       "50%     6.192290e+03                               5.831049e+04   \n",
       "75%     1.962452e+04                               1.827293e+05   \n",
       "max     3.998240e+06                               3.355135e+07   \n",
       "\n",
       "         Gas Savings  Cogen savings  Electric Savings     Latitude  \\\n",
       "count     801.000000     801.000000      8.010000e+02  2144.000000   \n",
       "mean     1556.253458     775.068964      2.971005e+04    40.724748   \n",
       "std      9690.273878   10073.585193      1.133967e+05     0.058004   \n",
       "min    -16353.890000       0.000000     -4.867951e+04    40.537235   \n",
       "25%         0.000000       0.000000      1.461500e+03    40.676734   \n",
       "50%         0.000000       0.000000      5.832510e+03    40.726669   \n",
       "75%         0.000000       0.000000      1.791193e+04    40.753900   \n",
       "max    162239.120000  210858.000000      2.210101e+06    40.900509   \n",
       "\n",
       "         Longitude  Community Board  Council District           BIN  \\\n",
       "count  2144.000000      2144.000000       2144.000000  2.111000e+03   \n",
       "mean    -73.938047       319.817631         27.615205  3.303459e+06   \n",
       "std       0.066153        92.695266         10.715503  9.796819e+05   \n",
       "min     -74.230740       101.000000          1.000000  1.000006e+06   \n",
       "25%     -73.976013       301.000000         22.000000  3.008798e+06   \n",
       "50%     -73.937847       307.000000         27.000000  3.336906e+06   \n",
       "75%     -73.906823       402.000000         35.250000  4.005214e+06   \n",
       "max     -73.722866       503.000000         51.000000  5.168823e+06   \n",
       "\n",
       "                BBL  Census Tract (2020)  \n",
       "count  2.111000e+03          2144.000000  \n",
       "mean   3.173351e+09          8139.259328  \n",
       "std    9.367395e+08         15674.506202  \n",
       "min    1.000058e+09             2.000000  \n",
       "25%    3.006120e+09           286.000000  \n",
       "50%    3.038820e+09           974.500000  \n",
       "75%    4.004160e+09          9302.000000  \n",
       "max    5.073280e+09        152902.000000  "
      ]
     },
     "execution_count": 5,
     "metadata": {},
     "output_type": "execute_result"
    }
   ],
   "source": [
    "energyDF.describe()"
   ]
  },
  {
   "cell_type": "code",
   "execution_count": 6,
   "id": "8022fae3",
   "metadata": {},
   "outputs": [
    {
     "name": "stdout",
     "output_type": "stream",
     "text": [
      "<class 'pandas.core.frame.DataFrame'>\n",
      "RangeIndex: 2363 entries, 0 to 2362\n",
      "Data columns (total 30 columns):\n",
      " #   Column                                     Non-Null Count  Dtype  \n",
      "---  ------                                     --------------  -----  \n",
      " 0   Period                                     2363 non-null   object \n",
      " 1   Company Name                               2363 non-null   object \n",
      " 2   company contact                            2363 non-null   object \n",
      " 3   company email                              2234 non-null   object \n",
      " 4   company phone                              2360 non-null   object \n",
      " 5   Address                                    2363 non-null   object \n",
      " 6   City                                       2357 non-null   object \n",
      " 7   State                                      2363 non-null   object \n",
      " 8   Postcode                                   2363 non-null   int64  \n",
      " 9   Industry                                   2363 non-null   object \n",
      " 10  Industry descr                             2164 non-null   object \n",
      " 11  Company Type                               2363 non-null   object \n",
      " 12  Current fulltime                           2350 non-null   float64\n",
      " 13  Job created                                229 non-null    float64\n",
      " 14  Job retain                                 339 non-null    float64\n",
      " 15  Effective Date                             2363 non-null   object \n",
      " 16  Total Savings                              2363 non-null   float64\n",
      " 17  Savings from beginning receiving benefits  2363 non-null   float64\n",
      " 18  Gas Savings                                801 non-null    float64\n",
      " 19  Cogen savings                              801 non-null    float64\n",
      " 20  Electric Savings                           801 non-null    float64\n",
      " 21  Borough                                    2149 non-null   object \n",
      " 22  Latitude                                   2144 non-null   float64\n",
      " 23  Longitude                                  2144 non-null   float64\n",
      " 24  Community Board                            2144 non-null   float64\n",
      " 25  Council District                           2144 non-null   float64\n",
      " 26  BIN                                        2111 non-null   float64\n",
      " 27  BBL                                        2111 non-null   float64\n",
      " 28  Census Tract (2020)                        2144 non-null   float64\n",
      " 29  Neighborhood Tabulation Area (NTA) (2020)  2144 non-null   object \n",
      "dtypes: float64(15), int64(1), object(14)\n",
      "memory usage: 554.0+ KB\n"
     ]
    }
   ],
   "source": [
    "energyDF.info()"
   ]
  },
  {
   "cell_type": "code",
   "execution_count": 7,
   "id": "e3e78961",
   "metadata": {},
   "outputs": [
    {
     "name": "stdout",
     "output_type": "stream",
     "text": [
      "787\n"
     ]
    }
   ],
   "source": [
    "nComps = energyDF[\"Company Name\"].nunique()\n",
    "print (nComps)"
   ]
  },
  {
   "cell_type": "code",
   "execution_count": 8,
   "id": "e22d2f8c",
   "metadata": {},
   "outputs": [
    {
     "name": "stdout",
     "output_type": "stream",
     "text": [
      "12257.0\n"
     ]
    }
   ],
   "source": [
    "queensJobs = energyDF[energyDF[\"City\"] == \"Queens\"][\"Job created\"].sum()\n",
    "print (queensJobs)"
   ]
  },
  {
   "cell_type": "code",
   "execution_count": 9,
   "id": "74b88aa1",
   "metadata": {},
   "outputs": [
    {
     "name": "stdout",
     "output_type": "stream",
     "text": [
      "<class 'pandas.core.frame.DataFrame'>\n",
      "Int64Index: 2234 entries, 0 to 2362\n",
      "Data columns (total 30 columns):\n",
      " #   Column                                     Non-Null Count  Dtype  \n",
      "---  ------                                     --------------  -----  \n",
      " 0   Period                                     2234 non-null   object \n",
      " 1   Company Name                               2234 non-null   object \n",
      " 2   company contact                            2234 non-null   object \n",
      " 3   company email                              2234 non-null   object \n",
      " 4   company phone                              2231 non-null   object \n",
      " 5   Address                                    2234 non-null   object \n",
      " 6   City                                       2234 non-null   object \n",
      " 7   State                                      2234 non-null   object \n",
      " 8   Postcode                                   2234 non-null   int64  \n",
      " 9   Industry                                   2234 non-null   object \n",
      " 10  Industry descr                             2056 non-null   object \n",
      " 11  Company Type                               2234 non-null   object \n",
      " 12  Current fulltime                           2231 non-null   float64\n",
      " 13  Job created                                190 non-null    float64\n",
      " 14  Job retain                                 284 non-null    float64\n",
      " 15  Effective Date                             2234 non-null   object \n",
      " 16  Total Savings                              2234 non-null   float64\n",
      " 17  Savings from beginning receiving benefits  2234 non-null   float64\n",
      " 18  Gas Savings                                788 non-null    float64\n",
      " 19  Cogen savings                              788 non-null    float64\n",
      " 20  Electric Savings                           788 non-null    float64\n",
      " 21  Borough                                    2041 non-null   object \n",
      " 22  Latitude                                   2038 non-null   float64\n",
      " 23  Longitude                                  2038 non-null   float64\n",
      " 24  Community Board                            2038 non-null   float64\n",
      " 25  Council District                           2038 non-null   float64\n",
      " 26  BIN                                        2007 non-null   float64\n",
      " 27  BBL                                        2007 non-null   float64\n",
      " 28  Census Tract (2020)                        2038 non-null   float64\n",
      " 29  Neighborhood Tabulation Area (NTA) (2020)  2038 non-null   object \n",
      "dtypes: float64(15), int64(1), object(14)\n",
      "memory usage: 541.0+ KB\n"
     ]
    }
   ],
   "source": [
    "emailsDF = energyDF.copy().dropna(subset = [\"company email\"])\n",
    "emailsDF.info()"
   ]
  },
  {
   "cell_type": "code",
   "execution_count": 10,
   "id": "dd0ff43c",
   "metadata": {},
   "outputs": [],
   "source": [
    "def getDomain(email):\n",
    "    emailList = email.split(\"@\")\n",
    "    if len(emailList) != 2:\n",
    "        # Filter out incorrectly input emails\n",
    "        # print (email)\n",
    "        return pd.NaT\n",
    "    else:\n",
    "        return emailList[1]"
   ]
  },
  {
   "cell_type": "code",
   "execution_count": 11,
   "id": "a9bcccb9",
   "metadata": {},
   "outputs": [
    {
     "name": "stdout",
     "output_type": "stream",
     "text": [
      "589\n"
     ]
    }
   ],
   "source": [
    "emailsDF[\"domain\"] = emailsDF[\"company email\"].apply(lambda x : getDomain(x))\n",
    "uniqueDomains = emailsDF[\"domain\"].nunique()\n",
    "print (uniqueDomains)"
   ]
  },
  {
   "cell_type": "code",
   "execution_count": 12,
   "id": "b0e8c792",
   "metadata": {},
   "outputs": [],
   "source": [
    "# Aggregate with GroupBy, Summing Jobs Created, Mean of Savings, and Totaling nCompanies per NTA\n",
    "NTAs = energyDF.groupby(\"Neighborhood Tabulation Area (NTA) (2020)\").agg({\"Job created\" :'sum',\"Total Savings\":'mean',\"Company Name\": pd.Series.nunique})\n",
    "NTAs = NTAs.rename(columns={'Job created' : \"Total Jobs Created\", 'Company Name': 'nCompanies',\"Total Savings\" : \"Avg Total Savings\"})\n",
    "# Only consider NTAs with at least 5 Companies\n",
    "NTAs = NTAs[NTAs[\"nCompanies\"] >= 5]"
   ]
  },
  {
   "cell_type": "code",
   "execution_count": 13,
   "id": "f1ad0859",
   "metadata": {},
   "outputs": [],
   "source": [
    "NTAs[[\"Total Jobs Created\",\"Avg Total Savings\"]].to_csv('./EnergyResults.csv')"
   ]
  },
  {
   "cell_type": "code",
   "execution_count": 14,
   "id": "358da8ef",
   "metadata": {},
   "outputs": [],
   "source": [
    "import seaborn as sns\n",
    "import matplotlib.pyplot as plt"
   ]
  },
  {
   "cell_type": "code",
   "execution_count": 15,
   "id": "acc2f7c1",
   "metadata": {},
   "outputs": [
    {
     "data": {
      "text/plain": [
       "<Axes: xlabel='Total Jobs Created', ylabel='Avg Total Savings'>"
      ]
     },
     "execution_count": 15,
     "metadata": {},
     "output_type": "execute_result"
    },
    {
     "data": {
      "image/png": "[encoded data removed]",
      "text/plain": [
       "<Figure size 640x480 with 1 Axes>"
      ]
     },
     "metadata": {},
     "output_type": "display_data"
    }
   ],
   "source": [
    "sns.scatterplot(x='Total Jobs Created',y='Avg Total Savings',data=NTAs)"
   ]
  },
  {
   "cell_type": "code",
   "execution_count": 16,
   "id": "cb4cf368",
   "metadata": {
    "scrolled": true
   },
   "outputs": [
    {
     "data": {
      "image/png": "[encoded data removed]",
      "text/plain": [
       "<Figure size 640x480 with 1 Axes>"
      ]
     },
     "metadata": {},
     "output_type": "display_data"
    }
   ],
   "source": [
    "sns.scatterplot(x='Total Jobs Created',y='Avg Total Savings',data=NTAs)\n",
    "plt.yscale('log')"
   ]
  },
  {
   "cell_type": "code",
   "execution_count": 17,
   "id": "eece70c7",
   "metadata": {},
   "outputs": [
    {
     "data": {
      "text/plain": [
       "<Axes: xlabel='Avg Total Savings', ylabel='Count'>"
      ]
     },
     "execution_count": 17,
     "metadata": {},
     "output_type": "execute_result"
    },
    {
     "data": {
      "image/png": "[encoded data removed]",
      "text/plain": [
       "<Figure size 640x480 with 1 Axes>"
      ]
     },
     "metadata": {},
     "output_type": "display_data"
    }
   ],
   "source": [
    "sns.histplot(x=\"Avg Total Savings\",data=NTAs)"
   ]
  },
  {
   "cell_type": "code",
   "execution_count": 18,
   "id": "beccfc92",
   "metadata": {},
   "outputs": [
    {
     "data": {
      "text/plain": [
       "15282.0"
      ]
     },
     "execution_count": 18,
     "metadata": {},
     "output_type": "execute_result"
    }
   ],
   "source": [
    "jobsPerMonth = energyDF.copy()\n",
    "jobsPerMonth[\"Effective Date\"] = pd.to_datetime(jobsPerMonth[\"Effective Date\"])\n",
    "jobsPerMonth[\"Effective Month\"] = jobsPerMonth[\"Effective Date\"].dt.month\n",
    "#jobsPerMonth = jobsPerMonth.dropna(subset = [\"Neighborhood Tabulation Area (NTA) (2020)\"])\n",
    "jobsPerMonth = jobsPerMonth.groupby(\"Effective Month\").agg({\"Job created\" :'sum',\"Total Savings\":'mean',\"Company Name\": pd.Series.nunique})\n",
    "jobsPerMonth[\"Job created\"].sum()"
   ]
  },
  {
   "cell_type": "code",
   "execution_count": 19,
   "id": "73520a77",
   "metadata": {},
   "outputs": [
    {
     "data": {
      "text/plain": [
       "<Axes: xlabel='Effective Month', ylabel='Job created'>"
      ]
     },
     "execution_count": 19,
     "metadata": {},
     "output_type": "execute_result"
    },
    {
     "data": {
      "image/png": "[encoded data removed]",
      "text/plain": [
       "<Figure size 640x480 with 1 Axes>"
      ]
     },
     "metadata": {},
     "output_type": "display_data"
    }
   ],
   "source": [
    "# One Particular company (Citibank, N.A.) reported 11343 hires on 5/6/05\n",
    "# A bit of an outlier\n",
    "sns.lineplot(x=\"Effective Month\",y=\"Job created\", data=jobsPerMonth)"
   ]
  },
  {
   "cell_type": "code",
   "execution_count": null,
   "id": "346bd0fe",
   "metadata": {},
   "outputs": [],
   "source": []
  }
 ],
 "metadata": {
  "kernelspec": {
   "display_name": "Python 3 (ipykernel)",
   "language": "python",
   "name": "python3"
  },
  "language_info": {
   "codemirror_mode": {
    "name": "ipython",
    "version": 3
   },
   "file_extension": ".py",
   "mimetype": "text/x-python",
   "name": "python",
   "nbconvert_exporter": "python",
   "pygments_lexer": "ipython3",
   "version": "3.11.4"
  }
 },
 "nbformat": 4,
 "nbformat_minor": 5
}
